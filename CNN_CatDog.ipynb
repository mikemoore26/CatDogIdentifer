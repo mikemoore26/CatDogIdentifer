{
 "cells": [
  {
   "cell_type": "code",
   "execution_count": 1,
   "metadata": {},
   "outputs": [],
   "source": [
    "import tensorflow as tf\n",
    "from keras.preprocessing.image import ImageDataGenerator"
   ]
  },
  {
   "cell_type": "code",
   "execution_count": 2,
   "metadata": {},
   "outputs": [
    {
     "data": {
      "text/plain": [
       "'2.5.0'"
      ]
     },
     "execution_count": 2,
     "metadata": {},
     "output_type": "execute_result"
    }
   ],
   "source": [
    "tf.__version__\n"
   ]
  },
  {
   "cell_type": "code",
   "execution_count": 3,
   "metadata": {},
   "outputs": [
    {
     "data": {
      "text/plain": [
       "''"
      ]
     },
     "execution_count": 3,
     "metadata": {},
     "output_type": "execute_result"
    }
   ],
   "source": [
    "import tensorflow as tf\n",
    "tf.test.gpu_device_name()"
   ]
  },
  {
   "cell_type": "code",
   "execution_count": 10,
   "metadata": {},
   "outputs": [
    {
     "name": "stdout",
     "output_type": "stream",
     "text": [
      "Found 4000 images belonging to 2 classes.\n"
     ]
    }
   ],
   "source": [
    "train_datagen = ImageDataGenerator(rescale = 1./255,\n",
    "                                   shear_range = 0.2,\n",
    "                                   zoom_range = 0.2,\n",
    "                                   horizontal_flip = True)\n",
    "training_set = train_datagen.flow_from_directory('/Users/mikemoore26/Downloads/training_set',\n",
    "                                                 target_size = (64, 64),\n",
    "                                                 batch_size = 32,\n",
    "                                                 class_mode = 'binary')"
   ]
  },
  {
   "cell_type": "code",
   "execution_count": 11,
   "metadata": {},
   "outputs": [
    {
     "name": "stdout",
     "output_type": "stream",
     "text": [
      "Found 1000 images belonging to 2 classes.\n"
     ]
    }
   ],
   "source": [
    "test_datagen = ImageDataGenerator(rescale = 1./255)\n",
    "test_set = test_datagen.flow_from_directory('/Users/mikemoore26/Downloads/test_set',\n",
    "                                            target_size = (64, 64),\n",
    "                                            batch_size = 32,\n",
    "                                            class_mode = 'binary')"
   ]
  },
  {
   "cell_type": "code",
   "execution_count": 12,
   "metadata": {},
   "outputs": [],
   "source": [
    "cnn = tf.keras.models.Sequential()\n"
   ]
  },
  {
   "cell_type": "code",
   "execution_count": 13,
   "metadata": {},
   "outputs": [],
   "source": [
    "cnn.add(tf.keras.layers.Conv2D(filters=32, kernel_size=3, activation='relu', input_shape=[64, 64, 3]))\n"
   ]
  },
  {
   "cell_type": "code",
   "execution_count": 14,
   "metadata": {},
   "outputs": [],
   "source": [
    "cnn.add(tf.keras.layers.MaxPool2D(pool_size=2, strides=2))\n"
   ]
  },
  {
   "cell_type": "code",
   "execution_count": 15,
   "metadata": {},
   "outputs": [],
   "source": [
    "cnn.add(tf.keras.layers.Conv2D(filters=32, kernel_size=3, activation='relu'))\n",
    "cnn.add(tf.keras.layers.MaxPool2D(pool_size=2, strides=2))"
   ]
  },
  {
   "cell_type": "code",
   "execution_count": 16,
   "metadata": {},
   "outputs": [],
   "source": [
    "cnn.add(tf.keras.layers.Flatten())\n"
   ]
  },
  {
   "cell_type": "code",
   "execution_count": 17,
   "metadata": {},
   "outputs": [],
   "source": [
    "cnn.add(tf.keras.layers.Dense(units=128, activation='relu'))\n"
   ]
  },
  {
   "cell_type": "code",
   "execution_count": 18,
   "metadata": {},
   "outputs": [],
   "source": [
    "cnn.add(tf.keras.layers.Dense(units=1, activation='sigmoid'))\n"
   ]
  },
  {
   "cell_type": "code",
   "execution_count": 19,
   "metadata": {},
   "outputs": [
    {
     "name": "stdout",
     "output_type": "stream",
     "text": [
      "Model: \"sequential\"\n",
      "_________________________________________________________________\n",
      "Layer (type)                 Output Shape              Param #   \n",
      "=================================================================\n",
      "conv2d (Conv2D)              (None, 62, 62, 32)        896       \n",
      "_________________________________________________________________\n",
      "max_pooling2d (MaxPooling2D) (None, 31, 31, 32)        0         \n",
      "_________________________________________________________________\n",
      "conv2d_1 (Conv2D)            (None, 29, 29, 32)        9248      \n",
      "_________________________________________________________________\n",
      "max_pooling2d_1 (MaxPooling2 (None, 14, 14, 32)        0         \n",
      "_________________________________________________________________\n",
      "flatten (Flatten)            (None, 6272)              0         \n",
      "_________________________________________________________________\n",
      "dense (Dense)                (None, 128)               802944    \n",
      "_________________________________________________________________\n",
      "dense_1 (Dense)              (None, 1)                 129       \n",
      "=================================================================\n",
      "Total params: 813,217\n",
      "Trainable params: 813,217\n",
      "Non-trainable params: 0\n",
      "_________________________________________________________________\n"
     ]
    }
   ],
   "source": [
    "cnn.summary()\n"
   ]
  },
  {
   "cell_type": "code",
   "execution_count": 20,
   "metadata": {},
   "outputs": [],
   "source": [
    "cnn.compile(optimizer = 'adam', loss = 'binary_crossentropy', metrics = ['accuracy'])\n"
   ]
  },
  {
   "cell_type": "code",
   "execution_count": 21,
   "metadata": {},
   "outputs": [
    {
     "name": "stdout",
     "output_type": "stream",
     "text": [
      "Epoch 1/25\n",
      "125/125 [==============================] - 26s 204ms/step - loss: 0.6797 - accuracy: 0.5700 - val_loss: 0.6191 - val_accuracy: 0.6640\n",
      "Epoch 2/25\n",
      "125/125 [==============================] - 24s 195ms/step - loss: 0.6397 - accuracy: 0.6390 - val_loss: 0.6021 - val_accuracy: 0.6590\n",
      "Epoch 3/25\n",
      "125/125 [==============================] - 24s 190ms/step - loss: 0.5860 - accuracy: 0.6927 - val_loss: 0.6577 - val_accuracy: 0.6170\n",
      "Epoch 4/25\n",
      "125/125 [==============================] - 22s 178ms/step - loss: 0.5620 - accuracy: 0.7095 - val_loss: 0.6525 - val_accuracy: 0.6700\n",
      "Epoch 5/25\n",
      "125/125 [==============================] - 20s 163ms/step - loss: 0.5334 - accuracy: 0.7312 - val_loss: 0.5309 - val_accuracy: 0.7350\n",
      "Epoch 6/25\n",
      "125/125 [==============================] - 18s 147ms/step - loss: 0.5028 - accuracy: 0.7567 - val_loss: 0.5102 - val_accuracy: 0.7660\n",
      "Epoch 7/25\n",
      "125/125 [==============================] - 18s 147ms/step - loss: 0.4876 - accuracy: 0.7685 - val_loss: 0.5021 - val_accuracy: 0.7580\n",
      "Epoch 8/25\n",
      "125/125 [==============================] - 18s 147ms/step - loss: 0.4692 - accuracy: 0.7745 - val_loss: 0.4918 - val_accuracy: 0.7720\n",
      "Epoch 9/25\n",
      "125/125 [==============================] - 18s 146ms/step - loss: 0.4594 - accuracy: 0.7835 - val_loss: 0.4928 - val_accuracy: 0.7750\n",
      "Epoch 10/25\n",
      "125/125 [==============================] - 19s 155ms/step - loss: 0.4331 - accuracy: 0.7970 - val_loss: 0.5618 - val_accuracy: 0.7310\n",
      "Epoch 11/25\n",
      "125/125 [==============================] - 23s 185ms/step - loss: 0.4221 - accuracy: 0.8092 - val_loss: 0.4946 - val_accuracy: 0.7900\n",
      "Epoch 12/25\n",
      "125/125 [==============================] - 20s 159ms/step - loss: 0.4158 - accuracy: 0.8133 - val_loss: 0.4789 - val_accuracy: 0.7910\n",
      "Epoch 13/25\n",
      "125/125 [==============================] - 23s 181ms/step - loss: 0.3945 - accuracy: 0.8145 - val_loss: 0.4921 - val_accuracy: 0.7840\n",
      "Epoch 14/25\n",
      "125/125 [==============================] - 26s 207ms/step - loss: 0.3920 - accuracy: 0.8205 - val_loss: 0.4984 - val_accuracy: 0.7730\n",
      "Epoch 15/25\n",
      "125/125 [==============================] - 25s 195ms/step - loss: 0.3683 - accuracy: 0.8317 - val_loss: 0.4629 - val_accuracy: 0.7810\n",
      "Epoch 16/25\n",
      "125/125 [==============================] - 25s 197ms/step - loss: 0.3628 - accuracy: 0.8410 - val_loss: 0.4998 - val_accuracy: 0.7740\n",
      "Epoch 17/25\n",
      "125/125 [==============================] - 23s 184ms/step - loss: 0.3430 - accuracy: 0.8497 - val_loss: 0.4955 - val_accuracy: 0.8020\n",
      "Epoch 18/25\n",
      "125/125 [==============================] - 24s 190ms/step - loss: 0.3367 - accuracy: 0.8472 - val_loss: 0.5028 - val_accuracy: 0.7930\n",
      "Epoch 19/25\n",
      "125/125 [==============================] - 19s 154ms/step - loss: 0.3163 - accuracy: 0.8615 - val_loss: 0.4849 - val_accuracy: 0.8030\n",
      "Epoch 20/25\n",
      "125/125 [==============================] - 19s 155ms/step - loss: 0.3062 - accuracy: 0.8673 - val_loss: 0.4797 - val_accuracy: 0.7900\n",
      "Epoch 21/25\n",
      "125/125 [==============================] - 19s 155ms/step - loss: 0.2752 - accuracy: 0.8835 - val_loss: 0.5200 - val_accuracy: 0.7950\n",
      "Epoch 22/25\n",
      "125/125 [==============================] - 20s 159ms/step - loss: 0.2766 - accuracy: 0.8808 - val_loss: 0.4929 - val_accuracy: 0.8010\n",
      "Epoch 23/25\n",
      "125/125 [==============================] - 20s 161ms/step - loss: 0.2518 - accuracy: 0.8960 - val_loss: 0.5633 - val_accuracy: 0.7920\n",
      "Epoch 24/25\n",
      "125/125 [==============================] - 20s 158ms/step - loss: 0.2408 - accuracy: 0.8975 - val_loss: 0.5477 - val_accuracy: 0.7990\n",
      "Epoch 25/25\n",
      "125/125 [==============================] - 20s 158ms/step - loss: 0.2337 - accuracy: 0.9062 - val_loss: 0.6331 - val_accuracy: 0.7820\n"
     ]
    },
    {
     "data": {
      "text/plain": [
       "<tensorflow.python.keras.callbacks.History at 0x7fb8810f0f10>"
      ]
     },
     "execution_count": 21,
     "metadata": {},
     "output_type": "execute_result"
    }
   ],
   "source": [
    "cnn.fit(x = training_set, validation_data = test_set, epochs = 25)\n"
   ]
  },
  {
   "cell_type": "code",
   "execution_count": 53,
   "metadata": {},
   "outputs": [],
   "source": [
    "\n",
    "import numpy as np\n",
    "from keras.preprocessing import image\n",
    "test_image = image.load_img('/Users/mikemoore26/Downloads/single_prediction/cat_or_dog_4.jpg', target_size = (64, 64))\n",
    "test_image = image.img_to_array(test_image)\n",
    "test_image = np.expand_dims(test_image, axis = 0)\n",
    "result = cnn.predict(test_image)\n",
    "training_set.class_indices\n",
    "if result[0][0] == 1:\n",
    "    prediction = 'dog'\n",
    "else:\n",
    "    prediction = 'cat'"
   ]
  },
  {
   "cell_type": "code",
   "execution_count": 54,
   "metadata": {},
   "outputs": [
    {
     "name": "stdout",
     "output_type": "stream",
     "text": [
      "dog\n"
     ]
    }
   ],
   "source": [
    "print(prediction)\n"
   ]
  },
  {
   "cell_type": "code",
   "execution_count": null,
   "metadata": {},
   "outputs": [],
   "source": []
  }
 ],
 "metadata": {
  "kernelspec": {
   "display_name": "Python 3",
   "language": "python",
   "name": "python3"
  },
  "language_info": {
   "codemirror_mode": {
    "name": "ipython",
    "version": 3
   },
   "file_extension": ".py",
   "mimetype": "text/x-python",
   "name": "python",
   "nbconvert_exporter": "python",
   "pygments_lexer": "ipython3",
   "version": "3.9.0"
  }
 },
 "nbformat": 4,
 "nbformat_minor": 4
}
